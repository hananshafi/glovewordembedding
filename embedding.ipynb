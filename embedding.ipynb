{
 "cells": [
  {
   "cell_type": "code",
   "execution_count": 5,
   "metadata": {},
   "outputs": [],
   "source": [
    "from keras.preprocessing.text import Tokenizer\n",
    "from keras.preprocessing.sequence import pad_sequences\n",
    "from keras.models import Sequential\n",
    "from keras.layers import Dense, Flatten, LSTM, Conv1D, MaxPooling1D, Dropout, Activation\n",
    "from keras.layers.embeddings import Embedding"
   ]
  },
  {
   "cell_type": "code",
   "execution_count": 6,
   "metadata": {},
   "outputs": [],
   "source": [
    "import nltk\n",
    "import string\n",
    "import numpy as np\n",
    "import pandas as pd\n",
    "from nltk.corpus import stopwords\n",
    "\n",
    "from sklearn.manifold import TSNE"
   ]
  },
  {
   "cell_type": "code",
   "execution_count": 7,
   "metadata": {},
   "outputs": [
    {
     "data": {
      "text/html": [
       "<script>requirejs.config({paths: { 'plotly': ['https://cdn.plot.ly/plotly-latest.min']},});if(!window.Plotly) {{require(['plotly'],function(plotly) {window.Plotly=plotly;});}}</script>"
      ],
      "text/vnd.plotly.v1+html": [
       "<script>requirejs.config({paths: { 'plotly': ['https://cdn.plot.ly/plotly-latest.min']},});if(!window.Plotly) {{require(['plotly'],function(plotly) {window.Plotly=plotly;});}}</script>"
      ]
     },
     "metadata": {},
     "output_type": "display_data"
    }
   ],
   "source": [
    "import plotly.offline as py\n",
    "import plotly.graph_objs as go\n",
    "py.init_notebook_mode(connected=True)\n",
    "embeddings_index = dict()\n",
    "f = open('glove.6B.100d.txt',encoding=\"utf8\")\n",
    "for line in f:\n",
    "    values = line.split()\n",
    "    word = values[0]\n",
    "    coefs = np.asarray(values[1:], dtype='float32')\n",
    "    embeddings_index[word] = coefs\n",
    "f.close()"
   ]
  },
  {
   "cell_type": "code",
   "execution_count": null,
   "metadata": {},
   "outputs": [],
   "source": []
  },
  {
   "cell_type": "code",
   "execution_count": 8,
   "metadata": {},
   "outputs": [],
   "source": [
    "def loadGloveModel(gloveFile):\n",
    "    print (\"Loading Glove Model\")\n",
    "    \n",
    "     \n",
    "    with open(gloveFile, encoding=\"utf8\" ) as f:\n",
    "       content = f.readlines()\n",
    "    model = {}\n",
    "    for line in content:\n",
    "        splitLine = line.split()\n",
    "        word = splitLine[0]\n",
    "        embedding = np.array([float(val) for val in splitLine[1:]])\n",
    "        model[word] = embedding\n",
    "    print (\"Done.\",len(model),\" words loaded!\")\n",
    "    return model"
   ]
  },
  {
   "cell_type": "code",
   "execution_count": 9,
   "metadata": {},
   "outputs": [
    {
     "name": "stdout",
     "output_type": "stream",
     "text": [
      "Loading Glove Model\n",
      "Done. 400000  words loaded!\n"
     ]
    }
   ],
   "source": [
    "file = \"C:\\\\Users\\\\hgani\\glove.6B.100d.txt\"\n",
    "model = loadGloveModel(file)"
   ]
  },
  {
   "cell_type": "code",
   "execution_count": 10,
   "metadata": {},
   "outputs": [
    {
     "name": "stdout",
     "output_type": "stream",
     "text": [
      "[-0.27086    0.044006  -0.02026   -0.17395    0.6444     0.71213\n",
      "  0.3551     0.47138   -0.29637    0.54427   -0.72294   -0.0047612\n",
      "  0.040611   0.043236   0.29729    0.10725    0.40156   -0.53662\n",
      "  0.033382   0.067396   0.64556   -0.085523   0.14103    0.094539\n",
      "  0.74947   -0.194     -0.68739   -0.41741   -0.22807    0.12\n",
      " -0.48999    0.80945    0.045138  -0.11898    0.20161    0.39276\n",
      " -0.20121    0.31354    0.75304    0.25907   -0.11566   -0.029319\n",
      "  0.93499   -0.36067    0.5242     0.23706    0.52715    0.22869\n",
      " -0.51958   -0.79349   -0.20368   -0.50187    0.18748    0.94282\n",
      " -0.44834   -3.6792     0.044183  -0.26751    2.1997     0.241\n",
      " -0.033425   0.69553   -0.64472   -0.0072277  0.89575    0.20015\n",
      "  0.46493    0.61933   -0.1066     0.08691   -0.4623     0.18262\n",
      " -0.15849    0.020791   0.19373    0.063426  -0.31673   -0.48177\n",
      " -1.3848     0.13669    0.96859    0.049965  -0.2738    -0.035686\n",
      " -1.0577    -0.24467    0.90366   -0.12442    0.080776  -0.83401\n",
      "  0.57201    0.088945  -0.42532   -0.018253  -0.079995  -0.28581\n",
      " -0.01089   -0.4923     0.63687    0.23642  ]\n"
     ]
    }
   ],
   "source": [
    "print(model['a'])"
   ]
  },
  {
   "cell_type": "code",
   "execution_count": 11,
   "metadata": {},
   "outputs": [
    {
     "name": "stdout",
     "output_type": "stream",
     "text": [
      "['this', 'is', 'a', 'test', 'file']\n",
      "Word embedding for this is[-0.57058   0.44183   0.70102  -0.41713  -0.34058   0.02339  -0.071537\n",
      "  0.48177  -0.013121  0.16834  -0.13389   0.040626  0.15827  -0.44342\n",
      " -0.019403 -0.009661 -0.046284  0.093228 -0.27331   0.2285    0.33089\n",
      " -0.36474   0.078741  0.3585    0.44757  -0.2299    0.18077  -0.6265\n",
      "  0.053852 -0.29154  -0.4256    0.62903   0.14393  -0.046004 -0.21007\n",
      "  0.48879  -0.057698  0.37431  -0.030075 -0.34494  -0.29702   0.15095\n",
      "  0.28248  -0.16578   0.076131 -0.093016  0.79365  -0.60489  -0.18874\n",
      " -1.0173    0.31962  -0.16344   0.54177   1.1725   -0.47875  -3.3842\n",
      " -0.081301 -0.3528    1.8372    0.44516  -0.52666   0.99786  -0.32178\n",
      "  0.033462  1.1783   -0.072905  0.39737   0.26166   0.33111  -0.35629\n",
      " -0.16558  -0.44382  -0.14183  -0.37976   0.28994  -0.029114 -0.35169\n",
      " -0.27694  -1.344     0.19555   0.16887   0.040237 -0.80212   0.23366\n",
      " -1.3837   -0.023132  0.085395 -0.74051  -0.073934 -0.58838  -0.085735\n",
      " -0.10525  -0.51571   0.15038  -0.16694  -0.16372  -0.22702  -0.66102\n",
      "  0.47197   0.37253 ]\n",
      "Word embedding for is is[-0.54264    0.41476    1.0322    -0.40244    0.46691    0.21816\n",
      " -0.074864   0.47332    0.080996  -0.22079   -0.12808   -0.1144\n",
      "  0.50891    0.11568    0.028211  -0.3628     0.43823    0.047511\n",
      "  0.20282    0.49857   -0.10068    0.13269    0.16972    0.11653\n",
      "  0.31355    0.25713    0.092783  -0.56826   -0.52975   -0.051456\n",
      " -0.67326    0.92533    0.2693     0.22734    0.66365    0.26221\n",
      "  0.19719    0.2609     0.18774   -0.3454    -0.42635    0.13975\n",
      "  0.56338   -0.56907    0.12398   -0.12894    0.72484   -0.26105\n",
      " -0.26314   -0.43605    0.078908  -0.84146    0.51595    1.3997\n",
      " -0.7646    -3.1453    -0.29202   -0.31247    1.5129     0.52435\n",
      "  0.21456    0.42452   -0.088411  -0.17805    1.1876     0.10579\n",
      "  0.76571    0.21914    0.35824   -0.11636    0.093261  -0.62483\n",
      " -0.21898    0.21796    0.74056   -0.43735    0.14343    0.14719\n",
      " -1.1605    -0.050508   0.12677   -0.014395  -0.98676   -0.091297\n",
      " -1.2054    -0.11974    0.047847  -0.54001    0.52457   -0.70963\n",
      " -0.32528   -0.1346    -0.41314    0.33435   -0.0072412  0.32253\n",
      " -0.044219  -1.2969     0.76217    0.46349  ]\n",
      "Word embedding for a is[-0.27086    0.044006  -0.02026   -0.17395    0.6444     0.71213\n",
      "  0.3551     0.47138   -0.29637    0.54427   -0.72294   -0.0047612\n",
      "  0.040611   0.043236   0.29729    0.10725    0.40156   -0.53662\n",
      "  0.033382   0.067396   0.64556   -0.085523   0.14103    0.094539\n",
      "  0.74947   -0.194     -0.68739   -0.41741   -0.22807    0.12\n",
      " -0.48999    0.80945    0.045138  -0.11898    0.20161    0.39276\n",
      " -0.20121    0.31354    0.75304    0.25907   -0.11566   -0.029319\n",
      "  0.93499   -0.36067    0.5242     0.23706    0.52715    0.22869\n",
      " -0.51958   -0.79349   -0.20368   -0.50187    0.18748    0.94282\n",
      " -0.44834   -3.6792     0.044183  -0.26751    2.1997     0.241\n",
      " -0.033425   0.69553   -0.64472   -0.0072277  0.89575    0.20015\n",
      "  0.46493    0.61933   -0.1066     0.08691   -0.4623     0.18262\n",
      " -0.15849    0.020791   0.19373    0.063426  -0.31673   -0.48177\n",
      " -1.3848     0.13669    0.96859    0.049965  -0.2738    -0.035686\n",
      " -1.0577    -0.24467    0.90366   -0.12442    0.080776  -0.83401\n",
      "  0.57201    0.088945  -0.42532   -0.018253  -0.079995  -0.28581\n",
      " -0.01089   -0.4923     0.63687    0.23642  ]\n",
      "Word embedding for test is[-5.8342e-01  4.8631e-01  7.4230e-01  1.7875e-01 -1.5873e+00 -3.7499e-01\n",
      "  3.7902e-01  7.0767e-01 -1.5402e+00  7.4851e-01 -6.9018e-03 -4.4981e-01\n",
      " -1.1125e-01  1.7395e-01  2.6005e-01  2.7065e-01  7.8731e-01  8.4877e-01\n",
      " -9.9277e-02  1.7688e-02  4.4389e-01 -8.7300e-01  4.9640e-01 -1.8430e-01\n",
      "  2.4894e-01  2.4073e-01  8.4460e-02  7.0786e-02 -2.3216e-01  2.6685e-01\n",
      " -2.3519e-01  4.5211e-01 -3.9982e-01  2.4936e-01  7.3548e-01 -7.2352e-02\n",
      " -8.1008e-01 -1.5256e-01 -1.0313e+00  2.3067e-01 -1.1634e+00  2.0387e-01\n",
      "  4.2369e-01 -1.0589e+00  2.9905e-01  2.0036e-01  6.3371e-01 -5.7507e-01\n",
      " -4.3730e-01 -5.5908e-01  5.0811e-01  3.2673e-01 -4.3710e-01  1.0702e+00\n",
      " -1.0418e-01 -2.4432e+00 -1.0739e+00  1.0881e-01  1.5446e+00 -1.5633e-01\n",
      " -3.7779e-01  1.5111e-01  5.8397e-01  5.4980e-01  2.3775e-01  8.8690e-01\n",
      " -1.0220e-01 -4.1313e-02 -1.9496e-01 -1.3760e-01 -1.3191e-04  6.9490e-01\n",
      "  6.6230e-02 -2.5647e-01 -1.0539e-01  5.6950e-01  1.7414e-01 -5.9899e-01\n",
      " -8.6757e-01 -3.1254e-01  5.4560e-01 -9.2359e-02 -1.2294e-01 -1.9419e-01\n",
      " -1.9168e+00 -4.4395e-02  6.8561e-01  2.0030e-01 -3.7791e-01  6.7436e-01\n",
      " -7.7218e-01  4.9596e-01  5.8190e-03  5.3833e-01  3.3367e-01  9.7822e-01\n",
      "  3.1984e-01 -1.2619e-01 -1.7724e-02  1.8389e-01]\n",
      "Word embedding for file is[-6.0503e-01  3.5632e-01  1.6980e-01 -5.1579e-01  9.3060e-03  8.2095e-01\n",
      " -4.0203e-01 -8.4497e-02  6.5832e-01  5.8716e-02  5.6399e-01 -5.0261e-02\n",
      "  1.6651e-01 -3.6767e-01 -3.1027e-01  2.7058e-01  1.0288e+00  2.2855e-01\n",
      " -6.5088e-02  2.2180e-01 -4.4795e-01 -1.9292e-01  1.1469e-01  5.3470e-01\n",
      "  5.1205e-02 -6.1287e-01  3.4666e-01 -4.0078e-02  1.8243e-01  1.4441e-01\n",
      "  1.2159e+00  8.6157e-01 -7.8381e-01 -1.1178e-03  7.4628e-01 -5.5603e-02\n",
      "  1.5441e-01 -1.2228e+00  7.9672e-01 -3.5888e-01 -2.1182e-01 -4.7853e-01\n",
      "  1.1860e-02 -4.7172e-01 -4.9861e-01 -3.9775e-01 -4.1579e-01 -2.7676e-01\n",
      "  4.2101e-01 -4.4580e-02  8.3172e-01 -9.8274e-04  1.4445e-01  2.7897e-01\n",
      " -2.6859e-01 -6.4422e-01  1.5731e-01 -7.4363e-01  2.5090e+00  6.6098e-01\n",
      " -5.6585e-01  3.7698e-01 -3.5210e-01 -3.6562e-01  1.0618e+00 -3.5677e-01\n",
      "  3.4652e-01  5.6724e-01 -2.2367e-01 -2.2239e-02 -1.0702e-01  6.7992e-01\n",
      " -1.1677e-02 -9.5433e-01  4.9309e-01  2.5246e-01 -4.5971e-01 -2.7715e-01\n",
      " -5.4709e-01  1.9738e-02  2.0717e-01 -5.6079e-01 -1.8183e-01 -5.4051e-01\n",
      " -9.5395e-01 -1.3516e-01  4.3299e-01 -1.2673e-01  9.0935e-02  4.6129e-01\n",
      " -2.1314e-01  4.9642e-01 -1.7529e-01  2.1132e-01  1.2861e+00 -3.9309e-01\n",
      "  8.3985e-01 -1.1613e-02  9.2856e-01 -4.4570e-01]\n"
     ]
    }
   ],
   "source": [
    "\n",
    "with open('TEST.txt', encoding=\"utf8\" ) as t:\n",
    "    c = t.readlines()\n",
    "    for line in c:\n",
    "        words = line.split()\n",
    "        \n",
    "        print(words)\n",
    "for i in words:\n",
    "    \n",
    "    print(\"Word embedding for\" + \" \" + (i) + \" \" + \"is\" + str(model[i]))"
   ]
  },
  {
   "cell_type": "code",
   "execution_count": null,
   "metadata": {},
   "outputs": [],
   "source": [
    "import cv2\n",
    "import sys\n",
    "import pytesseract\n",
    " \n",
    "if __name__ == '__main__':\n",
    " \n",
    "  if len(sys.argv) < 2:\n",
    "    print('Usage: python ocr_simple.py image.jpg')\n",
    "    sys.exit(1)\n",
    "   \n",
    "  # Read image path from command line\n",
    "  imPath = sys.argv[1]\n",
    "     \n",
    "  # Uncomment the line below to provide path to tesseract manually\n",
    "  pytesseract.pytesseract.tesseract_cmd = 'C:\\\\Program Files (x86)\\\\Tesseract-OCR\\\\tesseract'\n",
    " \n",
    "  # Define config parameters.\n",
    "  # '-l eng'  for using the English language\n",
    "  # '--oem 1' for using LSTM OCR Engine\n",
    "  config = ('-l eng --oem 1 --psm 3')\n",
    "\n",
    " \n",
    "  # Read image from disk\n",
    "  im = cv2.imread(imPath, cv2.IMREAD_COLOR)\n",
    " \n",
    "  # Run tesseract OCR on image\n",
    "  text = pytesseract.image_to_data('C:\\\\Users\\\\hgani\\\\Desktop\\\\Data\\\\AndroidAuto\\\\AA_Native_Switch_Screen_Day.png', config=config)\n",
    "  \n",
    "  # Print recognized text\n",
    "  print(text)\n",
    "   "
   ]
  },
  {
   "cell_type": "code",
   "execution_count": null,
   "metadata": {},
   "outputs": [],
   "source": [
    "import csv\n",
    "import cv2\n",
    "from pytesseract import pytesseract as pt\n",
    "\n",
    "pt.run_tesseract('C:\\\\Program Files (x86)\\\\Tesseract-OCR\\\\tesseract', 'output', lang=None, boxes=True, config=\"hocr\")\n",
    "\n",
    "# To read the coordinates\n",
    "boxes = []\n",
    "with open('output.box', 'rb') as f:\n",
    "    reader = csv.reader(f, delimiter = ' ')\n",
    "    for row in reader:\n",
    "        if(len(row)==6):\n",
    "            boxes.append(row)\n",
    "\n",
    "# Draw the bounding box\n",
    "img = cv2.imread('C:\\\\Users\\\\hgani\\\\Desktop\\\\Data\\\\AndroidAuto\\\\AA_Native_Switch_Screen_Day.png')\n",
    "h, w, _ = img.shape\n",
    "for b in boxes:\n",
    "    img = cv2.rectangle(img,(int(b[1]),h-int(b[2])),(int(b[3]),h-int(b[4])),(255,0,0),2)\n",
    "\n",
    "cv2.imshow('output',img)"
   ]
  },
  {
   "cell_type": "code",
   "execution_count": null,
   "metadata": {},
   "outputs": [],
   "source": [
    "import cv2\n",
    "import pytesseract\n",
    "\n",
    "filename = 'C:\\\\Users\\\\hgani\\\\Desktop\\\\Data\\\\AndroidAuto\\\\AA_Native_Switch_Screen_Day.png'\n",
    "\n",
    "# read the image and get the dimensions\n",
    "img = cv2.imread(filename)\n",
    "h, w, _ = img.shape # assumes color image\n",
    "\n",
    "# run tesseract, returning the bounding boxes\n",
    "boxes = pytesseract.image_to_boxes(img) # also include any config options you use\n",
    "\n",
    "# draw the bounding boxes on the image\n",
    "for b in boxes.splitlines():\n",
    "    b = b.split(' ')\n",
    "    img = cv2.rectangle(img, (int(b[1]), h - int(b[2])), (int(b[3]), h - int(b[4])), (0, 255, 0), 2)\n",
    "\n",
    "# show annotated image and wait for keypress\n",
    "cv2.imshow(filename, img)\n",
    "cv2.waitKey(0)"
   ]
  },
  {
   "cell_type": "code",
   "execution_count": null,
   "metadata": {},
   "outputs": [],
   "source": []
  }
 ],
 "metadata": {
  "kernelspec": {
   "display_name": "Python 3",
   "language": "python",
   "name": "python3"
  },
  "language_info": {
   "codemirror_mode": {
    "name": "ipython",
    "version": 3
   },
   "file_extension": ".py",
   "mimetype": "text/x-python",
   "name": "python",
   "nbconvert_exporter": "python",
   "pygments_lexer": "ipython3",
   "version": "3.5.3"
  }
 },
 "nbformat": 4,
 "nbformat_minor": 2
}
